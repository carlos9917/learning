{
 "cells": [
  {
   "cell_type": "code",
   "execution_count": 1,
   "id": "b6d76906",
   "metadata": {},
   "outputs": [
    {
     "name": "stderr",
     "output_type": "stream",
     "text": [
      "/home/cperalta/anaconda3/envs/py310/lib/python3.10/site-packages/requests/__init__.py:102: RequestsDependencyWarning: urllib3 (1.26.9) or chardet (5.1.0)/charset_normalizer (2.0.4) doesn't match a supported version!\n",
      "  warnings.warn(\"urllib3 ({}) or chardet ({})/charset_normalizer ({}) doesn't match a supported \"\n"
     ]
    }
   ],
   "source": [
    "import leafmap\n",
    "center_map=[54.87617,10.34985]\n",
    "map_select = leafmap.Map(center=center_map, \n",
    "                         zoom = 4, \n",
    "                         layers_control=True, \n",
    "                         measure_control=False, \n",
    "                         attribution_control=False)\n",
    "# this optional, not sure \n",
    "map_select.add_basemap(\"Stamen.TonerLite\")"
   ]
  },
  {
   "cell_type": "code",
   "execution_count": 2,
   "id": "fa1060a5",
   "metadata": {
    "scrolled": true
   },
   "outputs": [
    {
     "data": {
      "application/vnd.jupyter.widget-view+json": {
       "model_id": "79a8711af30a4b5f81e868c06b6afb74",
       "version_major": 2,
       "version_minor": 0
      },
      "text/plain": [
       "Map(center=[54.87617, 10.34985], controls=(ZoomControl(options=['position', 'zoom_in_text', 'zoom_in_title', '…"
      ]
     },
     "execution_count": 2,
     "metadata": {},
     "output_type": "execute_result"
    }
   ],
   "source": [
    "map_select"
   ]
  },
  {
   "cell_type": "code",
   "execution_count": null,
   "id": "d9e601c1",
   "metadata": {},
   "outputs": [],
   "source": []
  }
 ],
 "metadata": {
  "kernelspec": {
   "display_name": "Python 3 (ipykernel)",
   "language": "python",
   "name": "python3"
  },
  "language_info": {
   "codemirror_mode": {
    "name": "ipython",
    "version": 3
   },
   "file_extension": ".py",
   "mimetype": "text/x-python",
   "name": "python",
   "nbconvert_exporter": "python",
   "pygments_lexer": "ipython3",
   "version": "3.10.11"
  }
 },
 "nbformat": 4,
 "nbformat_minor": 5
}
