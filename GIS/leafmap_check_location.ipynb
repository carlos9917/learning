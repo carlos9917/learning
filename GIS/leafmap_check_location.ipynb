{
 "cells": [
  {
   "cell_type": "code",
   "execution_count": 6,
   "id": "b6d76906",
   "metadata": {},
   "outputs": [
    {
     "name": "stdout",
     "output_type": "stream",
     "text": [
      "Basemap can only be one of the following:\n",
      "  OpenStreetMap\n",
      "  Google Maps\n",
      "  Google Satellite\n",
      "  Google Terrain\n",
      "  Google Hybrid\n",
      "  FWS NWI Wetlands\n",
      "  FWS NWI Wetlands Raster\n",
      "  NLCD 2021 CONUS Land Cover\n",
      "  NLCD 2019 CONUS Land Cover\n",
      "  NLCD 2016 CONUS Land Cover\n",
      "  NLCD 2013 CONUS Land Cover\n",
      "  NLCD 2011 CONUS Land Cover\n",
      "  NLCD 2008 CONUS Land Cover\n",
      "  NLCD 2006 CONUS Land Cover\n",
      "  NLCD 2004 CONUS Land Cover\n",
      "  NLCD 2001 CONUS Land Cover\n",
      "  USGS NAIP Imagery\n",
      "  USGS NAIP Imagery False Color\n",
      "  USGS NAIP Imagery NDVI\n",
      "  USGS Hydrography\n",
      "  USGS 3DEP Elevation\n",
      "  ESA Worldcover 2020\n",
      "  ESA Worldcover 2020 S2 FCC\n",
      "  ESA Worldcover 2020 S2 TCC\n",
      "  ESA Worldcover 2021\n",
      "  ESA Worldcover 2021 S2 FCC\n",
      "  ESA Worldcover 2021 S2 TCC\n",
      "  BasemapAT.basemap\n",
      "  BasemapAT.grau\n",
      "  BasemapAT.highdpi\n",
      "  BasemapAT.orthofoto\n",
      "  BasemapAT.overlay\n",
      "  BasemapAT.surface\n",
      "  BasemapAT.terrain\n",
      "  CartoDB.DarkMatter\n",
      "  CartoDB.DarkMatterNoLabels\n",
      "  CartoDB.DarkMatterOnlyLabels\n",
      "  CartoDB.Positron\n",
      "  CartoDB.PositronNoLabels\n",
      "  CartoDB.PositronOnlyLabels\n",
      "  CartoDB.Voyager\n",
      "  CartoDB.VoyagerLabelsUnder\n",
      "  CartoDB.VoyagerNoLabels\n",
      "  CartoDB.VoyagerOnlyLabels\n",
      "  CyclOSM\n",
      "  Esri.AntarcticBasemap\n",
      "  Esri.AntarcticImagery\n",
      "  Esri.ArcticImagery\n",
      "  Esri.ArcticOceanBase\n",
      "  Esri.ArcticOceanReference\n",
      "  Esri.DeLorme\n",
      "  Esri.NatGeoWorldMap\n",
      "  Esri.OceanBasemap\n",
      "  Esri.WorldGrayCanvas\n",
      "  Esri.WorldImagery\n",
      "  Esri.WorldPhysical\n",
      "  Esri.WorldShadedRelief\n",
      "  Esri.WorldStreetMap\n",
      "  Esri.WorldTerrain\n",
      "  Esri.WorldTopoMap\n",
      "  FreeMapSK\n",
      "  Gaode.Normal\n",
      "  Gaode.Satellite\n",
      "  HikeBike.HikeBike\n",
      "  HikeBike.HillShading\n",
      "  JusticeMap.americanIndian\n",
      "  JusticeMap.asian\n",
      "  JusticeMap.black\n",
      "  JusticeMap.hispanic\n",
      "  JusticeMap.income\n",
      "  JusticeMap.multi\n",
      "  JusticeMap.nonWhite\n",
      "  JusticeMap.plurality\n",
      "  JusticeMap.white\n",
      "  MtbMap\n",
      "  NASAGIBS.ASTER_GDEM_Greyscale_Shaded_Relief\n",
      "  NASAGIBS.BlueMarble\n",
      "  NASAGIBS.BlueMarble3031\n",
      "  NASAGIBS.BlueMarble3413\n",
      "  NASAGIBS.ModisAquaBands721CR\n",
      "  NASAGIBS.ModisAquaTrueColorCR\n",
      "  NASAGIBS.ModisTerraAOD\n",
      "  NASAGIBS.ModisTerraBands367CR\n",
      "  NASAGIBS.ModisTerraBands721CR\n",
      "  NASAGIBS.ModisTerraChlorophyll\n",
      "  NASAGIBS.ModisTerraLSTDay\n",
      "  NASAGIBS.ModisTerraSnowCover\n",
      "  NASAGIBS.ModisTerraTrueColorCR\n",
      "  NASAGIBS.ViirsEarthAtNight2012\n",
      "  NASAGIBS.ViirsTrueColorCR\n",
      "  NLS\n",
      "  OPNVKarte\n",
      "  OneMapSG.Default\n",
      "  OneMapSG.Grey\n",
      "  OneMapSG.LandLot\n",
      "  OneMapSG.Night\n",
      "  OneMapSG.Original\n",
      "  OpenAIP\n",
      "  OpenFireMap\n",
      "  OpenRailwayMap\n",
      "  OpenSeaMap\n",
      "  OpenSnowMap.pistes\n",
      "  OpenStreetMap.BZH\n",
      "  OpenStreetMap.BlackAndWhite\n",
      "  OpenStreetMap.CH\n",
      "  OpenStreetMap.DE\n",
      "  OpenStreetMap.HOT\n",
      "  OpenStreetMap.Mapnik\n",
      "  OpenTopoMap\n",
      "  SafeCast\n",
      "  Stadia.AlidadeSmooth\n",
      "  Stadia.AlidadeSmoothDark\n",
      "  Stadia.OSMBright\n",
      "  Stadia.Outdoors\n",
      "  Stadia.StamenTerrain\n",
      "  Stadia.StamenTerrainBackground\n",
      "  Stadia.StamenTerrainLabels\n",
      "  Stadia.StamenTerrainLines\n",
      "  Stadia.StamenToner\n",
      "  Stadia.StamenTonerBackground\n",
      "  Stadia.StamenTonerLabels\n",
      "  Stadia.StamenTonerLines\n",
      "  Stadia.StamenTonerLite\n",
      "  Stadia.StamenWatercolor\n",
      "  Strava.All\n",
      "  Strava.Ride\n",
      "  Strava.Run\n",
      "  Strava.Water\n",
      "  Strava.Winter\n",
      "  SwissFederalGeoportal.JourneyThroughTime\n",
      "  SwissFederalGeoportal.NationalMapColor\n",
      "  SwissFederalGeoportal.NationalMapGrey\n",
      "  SwissFederalGeoportal.SWISSIMAGE\n",
      "  USGS.USImagery\n",
      "  USGS.USImageryTopo\n",
      "  USGS.USTopo\n",
      "  WaymarkedTrails.cycling\n",
      "  WaymarkedTrails.hiking\n",
      "  WaymarkedTrails.mtb\n",
      "  WaymarkedTrails.riding\n",
      "  WaymarkedTrails.skating\n",
      "  WaymarkedTrails.slopes\n",
      "  nlmaps.grijs\n",
      "  nlmaps.luchtfoto\n",
      "  nlmaps.pastel\n",
      "  nlmaps.standaard\n",
      "  nlmaps.water\n"
     ]
    }
   ],
   "source": [
    "import leafmap\n",
    "import geopandas as gpd\n",
    "import geopandas\n",
    "center_map=[54.87617,10.34985] # this is somewhere in Aero\n",
    "map_select = leafmap.Map(center=center_map, \n",
    "                         zoom = 4, \n",
    "                         layers_control=True, \n",
    "                         measure_control=False, \n",
    "                         attribution_control=False)\n",
    "# this optional, not sure \n",
    "map_select.add_basemap(\"OpenStretMap\")"
   ]
  },
  {
   "cell_type": "code",
=======
   "execution_count": 7,
   "id": "fa1060a5",
   "metadata": {
    "scrolled": true
   },
   "outputs": [
    {
     "data": {
      "application/vnd.jupyter.widget-view+json": {
       "model_id": "c68e330fb3c74ae099a4fb27e2cf196e",
       "version_major": 2,
       "version_minor": 0
      },
      "text/plain": [
       "Map(center=[54.87617, 10.34985], controls=(ZoomControl(options=['position', 'zoom_in_text', 'zoom_in_title', '…"
      ]
     },
     "execution_count": 7,
     "metadata": {},
     "output_type": "execute_result"
    }
   ],
   "source": [
    "map_select"
   ]
  },
  {
   "cell_type": "code",
   "execution_count": 22,
   "id": "d9e601c1",
   "metadata": {},
   "outputs": [],
   "source": [
    "#this one will export the polygon selection in geojson\n",
    "out_file=\"/home/cap/Downloads/area_around_nuuk.geojson\"\n",
    "map_select.save_draw_features(out_file)\n"
   ]
  },
  {
   "cell_type": "code",
   "execution_count": 23,
   "id": "67af4755",
   "metadata": {},
   "outputs": [
    {
     "name": "stdout",
     "output_type": "stream",
     "text": [
      "List of Coordinates:\n",
      "Latitude: 64.77194, Longitude: -52.225601\n",
      "Latitude: 64.809375, Longitude: -49.323924\n",
      "Latitude: 63.819026, Longitude: -48.862294\n",
      "Latitude: 63.072544, Longitude: -51.038551\n",
      "Latitude: 63.673232, Longitude: -53.368685\n",
      "Latitude: 64.356712, Longitude: -53.918245\n",
      "Latitude: 64.762573, Longitude: -53.368685\n",
      "Latitude: 64.77194, Longitude: -52.225601\n"
     ]
    }
   ],
   "source": [
    "# quick check of data\n",
    "import geojson\n",
    "\n",
    "# Load the GeoJSON file\n",
    "with open(out_file, 'r') as file:\n",
    "    data = geojson.load(file)\n",
    "\n",
    "    \n",
    "    \n",
    "# Extract coordinates from the first feature (assuming it's a Polygon)\n",
    "if data['features'][0]['geometry']['type'] == 'Polygon':\n",
    "    coordinates = data['features'][0]['geometry']['coordinates'][0]  # Extracting exterior ring\n",
    "    print(\"List of Coordinates:\")\n",
    "    for lon,lat in coordinates:\n",
    "        print(f\"Latitude: {lat}, Longitude: {lon}\")\n",
    "else:\n",
    "    print(\"The first feature is not a Polygon.\")    \n",
    "    \n"
   ]
  },
  {
   "cell_type": "code",
   "execution_count": 25,
   "id": "7b1137a4",
   "metadata": {},
   "outputs": [],
   "source": [
    "#this is for a polygon\n",
    "\n",
    "coordinates = data['features'][0]['geometry']['coordinates'][0]  # Extracting exterior ring\n",
    "\n",
    "# this works for a line\n",
    "coordinates = data['features'][0]['geometry']['coordinates']\n",
    "\n",
    "\n",
    "#for lon,lat in coordinates:\n",
    "#        print(f\"{lat} {lon}\")"
   ]
  },
  {
   "cell_type": "code",
   "execution_count": 50,
   "id": "d66f95ca",
   "metadata": {},
   "outputs": [
    {
     "data": {
      "text/plain": [
       "[[-52.225601, 64.77194],\n",
       " [-49.323924, 64.809375],\n",
       " [-48.862294, 63.819026],\n",
       " [-51.038551, 63.072544],\n",
       " [-53.368685, 63.673232],\n",
       " [-53.918245, 64.356712],\n",
       " [-53.368685, 64.762573],\n",
       " [-52.225601, 64.77194]]"
      ]
     },
     "execution_count": 50,
     "metadata": {},
     "output_type": "execute_result"
    }
   ],
   "source": [
    "coordinates[0]"
   ]
  },
  {
   "cell_type": "code",
   "execution_count": 53,
   "id": "e08de7e8",
   "metadata": {},
   "outputs": [
    {
     "name": "stdout",
     "output_type": "stream",
     "text": [
      "64.77194 -52.225601\n",
      "64.809375 -49.323924\n",
      "63.819026 -48.862294\n",
      "63.072544 -51.038551\n",
      "63.673232 -53.368685\n",
      "64.356712 -53.918245\n",
      "64.762573 -53.368685\n",
      "64.77194 -52.225601\n"
     ]
    }
   ],
   "source": [
    "for l in  coordinates[0]:\n",
    "    lon = l[0]\n",
    "    lat = l[1]\n",
    "    print(f\"{lat} {lon}\")"
   ]
  },
  {
   "cell_type": "code",
   "execution_count": null,
   "id": "d7bfab29",
   "metadata": {},
   "outputs": [],
   "source": []
  },
  {
   "cell_type": "code",
   "execution_count": null,
   "id": "41e5cbb1",
   "metadata": {},
   "outputs": [],
   "source": []
  }
 ],
 "metadata": {
  "kernelspec": {
   "display_name": "Python 3 (ipykernel)",
   "language": "python",
   "name": "python3"
  },
  "language_info": {
   "codemirror_mode": {
    "name": "ipython",
    "version": 3
   },
   "file_extension": ".py",
   "mimetype": "text/x-python",
   "name": "python",
   "nbconvert_exporter": "python",
   "pygments_lexer": "ipython3",
   "version": "3.11.4"
  }
 },
 "nbformat": 4,
 "nbformat_minor": 5
}
