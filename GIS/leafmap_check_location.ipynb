{
 "cells": [
  {
   "cell_type": "code",
   "execution_count": 1,
   "id": "b6d76906",
   "metadata": {},
   "outputs": [],
   "source": [
    "import leafmap\n",
    "import geopandas as gpd\n",
    "center_map=[54.87617,10.34985] # this is somewhere in Aero\n",
    "map_select = leafmap.Map(center=center_map, \n",
    "                         zoom = 4, \n",
    "                         layers_control=True, \n",
    "                         measure_control=False, \n",
    "                         attribution_control=False)\n",
    "# this optional, not sure \n",
    "map_select.add_basemap(\"Stamen.TonerLite\")"
   ]
  },
  {
   "cell_type": "code",
   "execution_count": 2,
   "id": "fa1060a5",
   "metadata": {
    "scrolled": true
   },
   "outputs": [
    {
     "data": {
      "application/vnd.jupyter.widget-view+json": {
       "model_id": "50920485c0514800aa2613af3fdeb355",
       "version_major": 2,
       "version_minor": 0
      },
      "text/plain": [
       "Map(center=[54.87617, 10.34985], controls=(ZoomControl(options=['position', 'zoom_in_text', 'zoom_in_title', '…"
      ]
     },
     "execution_count": 2,
     "metadata": {},
     "output_type": "execute_result"
    }
   ],
   "source": [
    "map_select"
   ]
  },
  {
   "cell_type": "code",
   "execution_count": 22,
   "id": "d9e601c1",
   "metadata": {},
   "outputs": [],
   "source": [
    "#this one will export the polygon selection in geojson\n",
    "out_file=\"/home/cap/Downloads/area_around_nuuk.geojson\"\n",
    "map_select.save_draw_features(out_file)\n"
   ]
  },
  {
   "cell_type": "code",
   "execution_count": 23,
   "id": "67af4755",
   "metadata": {},
   "outputs": [
    {
     "name": "stdout",
     "output_type": "stream",
     "text": [
      "List of Coordinates:\n",
      "Latitude: 64.77194, Longitude: -52.225601\n",
      "Latitude: 64.809375, Longitude: -49.323924\n",
      "Latitude: 63.819026, Longitude: -48.862294\n",
      "Latitude: 63.072544, Longitude: -51.038551\n",
      "Latitude: 63.673232, Longitude: -53.368685\n",
      "Latitude: 64.356712, Longitude: -53.918245\n",
      "Latitude: 64.762573, Longitude: -53.368685\n",
      "Latitude: 64.77194, Longitude: -52.225601\n"
     ]
    }
   ],
   "source": [
    "# quick check of data\n",
    "import geojson\n",
    "\n",
    "# Load the GeoJSON file\n",
    "with open(out_file, 'r') as file:\n",
    "    data = geojson.load(file)\n",
    "\n",
    "    \n",
    "    \n",
    "# Extract coordinates from the first feature (assuming it's a Polygon)\n",
    "if data['features'][0]['geometry']['type'] == 'Polygon':\n",
    "    coordinates = data['features'][0]['geometry']['coordinates'][0]  # Extracting exterior ring\n",
    "    print(\"List of Coordinates:\")\n",
    "    for lon,lat in coordinates:\n",
    "        print(f\"Latitude: {lat}, Longitude: {lon}\")\n",
    "else:\n",
    "    print(\"The first feature is not a Polygon.\")    \n",
    "    \n"
   ]
  },
  {
   "cell_type": "code",
   "execution_count": 25,
   "id": "7b1137a4",
   "metadata": {},
   "outputs": [],
   "source": [
    "#this is for a polygon\n",
    "\n",
    "coordinates = data['features'][0]['geometry']['coordinates'][0]  # Extracting exterior ring\n",
    "\n",
    "# this works for a line\n",
    "coordinates = data['features'][0]['geometry']['coordinates']\n",
    "\n",
    "\n",
    "#for lon,lat in coordinates:\n",
    "#        print(f\"{lat} {lon}\")"
   ]
  },
  {
   "cell_type": "code",
   "execution_count": 50,
   "id": "d66f95ca",
   "metadata": {},
   "outputs": [
    {
     "data": {
      "text/plain": [
       "[[-52.225601, 64.77194],\n",
       " [-49.323924, 64.809375],\n",
       " [-48.862294, 63.819026],\n",
       " [-51.038551, 63.072544],\n",
       " [-53.368685, 63.673232],\n",
       " [-53.918245, 64.356712],\n",
       " [-53.368685, 64.762573],\n",
       " [-52.225601, 64.77194]]"
      ]
     },
     "execution_count": 50,
     "metadata": {},
     "output_type": "execute_result"
    }
   ],
   "source": [
    "coordinates[0]"
   ]
  },
  {
   "cell_type": "code",
   "execution_count": 53,
   "id": "e08de7e8",
   "metadata": {},
   "outputs": [
    {
     "name": "stdout",
     "output_type": "stream",
     "text": [
      "64.77194 -52.225601\n",
      "64.809375 -49.323924\n",
      "63.819026 -48.862294\n",
      "63.072544 -51.038551\n",
      "63.673232 -53.368685\n",
      "64.356712 -53.918245\n",
      "64.762573 -53.368685\n",
      "64.77194 -52.225601\n"
     ]
    }
   ],
   "source": [
    "for l in  coordinates[0]:\n",
    "    lon = l[0]\n",
    "    lat = l[1]\n",
    "    print(f\"{lat} {lon}\")"
   ]
  },
  {
   "cell_type": "code",
   "execution_count": null,
   "id": "d7bfab29",
   "metadata": {},
   "outputs": [],
   "source": []
  },
  {
   "cell_type": "code",
   "execution_count": null,
   "id": "41e5cbb1",
   "metadata": {},
   "outputs": [],
   "source": []
  }
 ],
 "metadata": {
  "kernelspec": {
   "display_name": "Python 3 (ipykernel)",
   "language": "python",
   "name": "python3"
  },
  "language_info": {
   "codemirror_mode": {
    "name": "ipython",
    "version": 3
   },
   "file_extension": ".py",
   "mimetype": "text/x-python",
   "name": "python",
   "nbconvert_exporter": "python",
   "pygments_lexer": "ipython3",
   "version": "3.10.8"
  }
 },
 "nbformat": 4,
 "nbformat_minor": 5
}
