{
 "cells": [
  {
   "cell_type": "code",
   "execution_count": 12,
   "id": "b6d76906",
   "metadata": {},
   "outputs": [],
   "source": [
    "import leafmap\n",
    "center_map=[54.87617,10.34985] # this is somewhere in Aero\n",
    "map_select = leafmap.Map(center=center_map, \n",
    "                         zoom = 4, \n",
    "                         layers_control=True, \n",
    "                         measure_control=False, \n",
    "                         attribution_control=False)\n",
    "# this optional, not sure \n",
    "map_select.add_basemap(\"Stamen.TonerLite\")"
   ]
  },
  {
   "cell_type": "code",
   "execution_count": 13,
   "id": "fa1060a5",
   "metadata": {
    "scrolled": true
   },
   "outputs": [],
   "source": [
    "map_select"
   ]
  },
  {
   "cell_type": "code",
   "execution_count": 6,
   "id": "d9e601c1",
   "metadata": {},
   "outputs": [],
   "source": [
    "#this one will export the polygon selection in geojson\n",
    "map_select.save_draw_features(\"cph_center.geojson\")\n"
   ]
  },
  {
   "cell_type": "code",
   "execution_count": null,
   "id": "67af4755",
   "metadata": {},
   "outputs": [],
   "source": []
  }
 ],
 "metadata": {
  "kernelspec": {
   "display_name": "Python 3 (ipykernel)",
   "language": "python",
   "name": "python3"
  },
  "language_info": {
   "codemirror_mode": {
    "name": "ipython",
    "version": 3
   },
   "file_extension": ".py",
   "mimetype": "text/x-python",
   "name": "python",
   "nbconvert_exporter": "python",
   "pygments_lexer": "ipython3",
   "version": "3.10.11"
  }
 },
 "nbformat": 4,
 "nbformat_minor": 5
}
